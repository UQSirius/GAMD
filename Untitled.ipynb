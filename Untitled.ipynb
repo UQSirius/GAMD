{
 "cells": [
  {
   "cell_type": "code",
   "execution_count": 1,
   "id": "fb48de10-dee2-4bdd-905b-d3a005d32b1a",
   "metadata": {},
   "outputs": [],
   "source": [
    "import jax.numpy as jnp\n",
    "from jax import grad, jit, vmap\n",
    "from jax import random"
   ]
  },
  {
   "cell_type": "code",
   "execution_count": 2,
   "id": "23dea137-43df-4e24-95c7-ea8906ac08b1",
   "metadata": {},
   "outputs": [
    {
     "name": "stdout",
     "output_type": "stream",
     "text": [
      "[-0.3721109   0.26423115 -0.18252768 -0.7368197  -0.44030377 -0.1521442\n",
      " -0.67135346 -0.5908641   0.73168886  0.5673026 ]\n"
     ]
    }
   ],
   "source": [
    "key = random.PRNGKey(0)\n",
    "x = random.normal(key, (10,))\n",
    "print(x)"
   ]
  },
  {
   "cell_type": "code",
   "execution_count": 3,
   "id": "b46db226-edb2-429e-9967-f3106f9e61c1",
   "metadata": {},
   "outputs": [
    {
     "name": "stdout",
     "output_type": "stream",
     "text": [
      "813 µs ± 1.21 µs per loop (mean ± std. dev. of 7 runs, 1,000 loops each)\n"
     ]
    }
   ],
   "source": [
    "size = 3000\n",
    "x = random.normal(key, (size, size), dtype=jnp.float32)\n",
    "%timeit jnp.dot(x, x.T).block_until_ready()  # runs on the GPU"
   ]
  },
  {
   "cell_type": "code",
   "execution_count": 5,
   "id": "060cf83a-3830-4714-9c64-378873cd7adb",
   "metadata": {},
   "outputs": [
    {
     "name": "stdout",
     "output_type": "stream",
     "text": [
      "835 µs ± 18.6 µs per loop (mean ± std. dev. of 7 runs, 1,000 loops each)\n"
     ]
    }
   ],
   "source": [
    "from jax import device_put\n",
    "import numpy as np\n",
    "x = np.random.normal(size=(size, size)).astype(np.float32)\n",
    "x = device_put(x)\n",
    "%timeit jnp.dot(x, x.T).block_until_ready()"
   ]
  },
  {
   "cell_type": "code",
   "execution_count": 6,
   "id": "42f19610-ec2b-4a56-9b86-dc1d4b066830",
   "metadata": {},
   "outputs": [],
   "source": [
    "import jax\n",
    "import jax.numpy as jnp\n",
    "import jax.profiler\n",
    "\n",
    "def func1(x):\n",
    "  return jnp.tile(x, 10) * 0.5\n",
    "\n",
    "def func2(x):\n",
    "  y = func1(x)\n",
    "  return y, jnp.tile(x, 10) + 1\n",
    "\n",
    "x = jax.random.normal(jax.random.PRNGKey(42), (1000, 1000))\n",
    "y, z = func2(x)\n",
    "\n",
    "z.block_until_ready()\n",
    "\n",
    "jax.profiler.save_device_memory_profile(\"memory.prof\")"
   ]
  },
  {
   "cell_type": "code",
   "execution_count": 7,
   "id": "2b1a928b-e981-473b-ad6a-0238e5037830",
   "metadata": {
    "scrolled": true
   },
   "outputs": [
    {
     "ename": "SyntaxError",
     "evalue": "invalid syntax (3932396307.py, line 1)",
     "output_type": "error",
     "traceback": [
      "\u001b[0;36m  Cell \u001b[0;32mIn[7], line 1\u001b[0;36m\u001b[0m\n\u001b[0;31m    pprof --web memory.prof\u001b[0m\n\u001b[0m                ^\u001b[0m\n\u001b[0;31mSyntaxError\u001b[0m\u001b[0;31m:\u001b[0m invalid syntax\n"
     ]
    }
   ],
   "source": [
    "pprof --web memory.prof"
   ]
  },
  {
   "cell_type": "code",
   "execution_count": 9,
   "id": "ee10c081-f076-45b4-96d9-7c3b356aa7ac",
   "metadata": {},
   "outputs": [],
   "source": [
    "import jax.numpy as jnp\n",
    "from jax import grad, jit, vmap\n",
    "from jax import random"
   ]
  },
  {
   "cell_type": "code",
   "execution_count": 4,
   "id": "bcccb4a2-1922-4be6-8758-669ba082454c",
   "metadata": {},
   "outputs": [
    {
     "data": {
      "text/plain": [
       "'gpu'"
      ]
     },
     "execution_count": 4,
     "metadata": {},
     "output_type": "execute_result"
    }
   ],
   "source": [
    "import jax\n",
    "jax.default_backend()"
   ]
  },
  {
   "cell_type": "code",
   "execution_count": 5,
   "id": "73f1daf0-c91b-479a-80a5-b7c2240f0379",
   "metadata": {},
   "outputs": [
    {
     "name": "stdout",
     "output_type": "stream",
     "text": [
      "None\n"
     ]
    }
   ],
   "source": [
    "print(jax.config.jax_platforms)"
   ]
  },
  {
   "cell_type": "code",
   "execution_count": 6,
   "id": "535300ff-d007-426b-b97d-6cfd189ba5ad",
   "metadata": {},
   "outputs": [
    {
     "name": "stdout",
     "output_type": "stream",
     "text": [
      "JAX backend: gpu\n"
     ]
    }
   ],
   "source": [
    "import jax\n",
    "\n",
    "# 设置 JAX 使用的平台为 GPU\n",
    "jax.config.update('jax_platform_name', 'gpu')\n",
    "\n",
    "# 检查当前的平台\n",
    "print(\"JAX backend:\", jax.lib.xla_bridge.get_backend().platform)\n"
   ]
  },
  {
   "cell_type": "code",
   "execution_count": 8,
   "id": "cef9f893-75c7-4d2c-957c-12caa6289e83",
   "metadata": {},
   "outputs": [
    {
     "name": "stdout",
     "output_type": "stream",
     "text": [
      "None\n"
     ]
    }
   ],
   "source": [
    "jax.config.update('jax_platform_name', 'gpu')\n",
    "print(jax.config.jax_platforms)"
   ]
  }
 ],
 "metadata": {
  "kernelspec": {
   "display_name": "Python 3 (ipykernel)",
   "language": "python",
   "name": "python3"
  },
  "language_info": {
   "codemirror_mode": {
    "name": "ipython",
    "version": 3
   },
   "file_extension": ".py",
   "mimetype": "text/x-python",
   "name": "python",
   "nbconvert_exporter": "python",
   "pygments_lexer": "ipython3",
   "version": "3.9.18"
  }
 },
 "nbformat": 4,
 "nbformat_minor": 5
}
